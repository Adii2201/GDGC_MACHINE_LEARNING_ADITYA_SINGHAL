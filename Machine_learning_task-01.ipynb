{
  "nbformat": 4,
  "nbformat_minor": 0,
  "metadata": {
    "colab": {
      "provenance": [],
      "gpuType": "T4"
    },
    "kernelspec": {
      "name": "python3",
      "display_name": "Python 3"
    },
    "language_info": {
      "name": "python"
    },
    "accelerator": "GPU"
  },
  "cells": [
    {
      "cell_type": "code",
      "execution_count": 1,
      "metadata": {
        "colab": {
          "base_uri": "https://localhost:8080/"
        },
        "id": "Aqz72KGeX4qO",
        "outputId": "db46e400-08f4-4d24-8084-6a89feae9459"
      },
      "outputs": [
        {
          "output_type": "stream",
          "name": "stdout",
          "text": [
            "Dataset Info:\n",
            "<class 'pandas.core.frame.DataFrame'>\n",
            "RangeIndex: 19119 entries, 0 to 19118\n",
            "Data columns (total 12 columns):\n",
            " #   Column             Non-Null Count  Dtype  \n",
            "---  ------             --------------  -----  \n",
            " 0   Year               19119 non-null  int64  \n",
            " 1   Month              19119 non-null  object \n",
            " 2   State              19119 non-null  object \n",
            " 3   Location           16953 non-null  object \n",
            " 4   Food               10156 non-null  object \n",
            " 5   Ingredient         1876 non-null   object \n",
            " 6   Species            12500 non-null  object \n",
            " 7   Serotype/Genotype  3907 non-null   object \n",
            " 8   Status             12500 non-null  object \n",
            " 9   Illnesses          19119 non-null  int64  \n",
            " 10  Hospitalizations   15494 non-null  float64\n",
            " 11  Fatalities         15518 non-null  float64\n",
            "dtypes: float64(2), int64(2), object(8)\n",
            "memory usage: 1.8+ MB\n",
            "None\n",
            "\n",
            "Sample Data:\n",
            "   Year    Month       State                Location  \\\n",
            "0  1998  January  California              Restaurant   \n",
            "1  1998  January  California                     NaN   \n",
            "2  1998  January  California              Restaurant   \n",
            "3  1998  January  California              Restaurant   \n",
            "4  1998  January  California  Private Home/Residence   \n",
            "\n",
            "                                Food Ingredient              Species  \\\n",
            "0                                NaN        NaN                  NaN   \n",
            "1                            Custard        NaN                  NaN   \n",
            "2                                NaN        NaN                  NaN   \n",
            "3                          Fish, Ahi        NaN      Scombroid toxin   \n",
            "4  Lasagna, Unspecified; Eggs, Other        NaN  Salmonella enterica   \n",
            "\n",
            "  Serotype/Genotype     Status  Illnesses  Hospitalizations  Fatalities  \n",
            "0               NaN        NaN         20               0.0         0.0  \n",
            "1               NaN        NaN        112               0.0         0.0  \n",
            "2               NaN        NaN         35               0.0         0.0  \n",
            "3               NaN  Confirmed          4               0.0         0.0  \n",
            "4       Enteritidis  Confirmed         26               3.0         0.0  \n"
          ]
        }
      ],
      "source": [
        "import pandas as pd\n",
        "\n",
        "file_path = '/content/outbreaks.csv'\n",
        "data = pd.read_csv(file_path)\n",
        "print(\"Dataset Info:\")\n",
        "print(data.info())\n",
        "print(\"\\nSample Data:\")\n",
        "print(data.head())"
      ]
    },
    {
      "cell_type": "code",
      "source": [
        "data['Location'].fillna('Unknown', inplace=True)\n",
        "data['Species'].fillna('Unknown', inplace=True)\n",
        "data['Hospitalizations'].fillna(0, inplace=True)\n",
        "data['Fatalities'].fillna(0, inplace=True)\n",
        "\n",
        "print(\"Missing values handled.\")\n"
      ],
      "metadata": {
        "colab": {
          "base_uri": "https://localhost:8080/"
        },
        "id": "mHOzBA8maA8E",
        "outputId": "e1b7b80b-8721-4890-9623-6b520b18393e"
      },
      "execution_count": 2,
      "outputs": [
        {
          "output_type": "stream",
          "name": "stdout",
          "text": [
            "Missing values handled.\n"
          ]
        },
        {
          "output_type": "stream",
          "name": "stderr",
          "text": [
            "<ipython-input-2-3175d0ac5231>:2: FutureWarning: A value is trying to be set on a copy of a DataFrame or Series through chained assignment using an inplace method.\n",
            "The behavior will change in pandas 3.0. This inplace method will never work because the intermediate object on which we are setting values always behaves as a copy.\n",
            "\n",
            "For example, when doing 'df[col].method(value, inplace=True)', try using 'df.method({col: value}, inplace=True)' or df[col] = df[col].method(value) instead, to perform the operation inplace on the original object.\n",
            "\n",
            "\n",
            "  data['Location'].fillna('Unknown', inplace=True)\n",
            "<ipython-input-2-3175d0ac5231>:3: FutureWarning: A value is trying to be set on a copy of a DataFrame or Series through chained assignment using an inplace method.\n",
            "The behavior will change in pandas 3.0. This inplace method will never work because the intermediate object on which we are setting values always behaves as a copy.\n",
            "\n",
            "For example, when doing 'df[col].method(value, inplace=True)', try using 'df.method({col: value}, inplace=True)' or df[col] = df[col].method(value) instead, to perform the operation inplace on the original object.\n",
            "\n",
            "\n",
            "  data['Species'].fillna('Unknown', inplace=True)\n",
            "<ipython-input-2-3175d0ac5231>:4: FutureWarning: A value is trying to be set on a copy of a DataFrame or Series through chained assignment using an inplace method.\n",
            "The behavior will change in pandas 3.0. This inplace method will never work because the intermediate object on which we are setting values always behaves as a copy.\n",
            "\n",
            "For example, when doing 'df[col].method(value, inplace=True)', try using 'df.method({col: value}, inplace=True)' or df[col] = df[col].method(value) instead, to perform the operation inplace on the original object.\n",
            "\n",
            "\n",
            "  data['Hospitalizations'].fillna(0, inplace=True)\n",
            "<ipython-input-2-3175d0ac5231>:5: FutureWarning: A value is trying to be set on a copy of a DataFrame or Series through chained assignment using an inplace method.\n",
            "The behavior will change in pandas 3.0. This inplace method will never work because the intermediate object on which we are setting values always behaves as a copy.\n",
            "\n",
            "For example, when doing 'df[col].method(value, inplace=True)', try using 'df.method({col: value}, inplace=True)' or df[col] = df[col].method(value) instead, to perform the operation inplace on the original object.\n",
            "\n",
            "\n",
            "  data['Fatalities'].fillna(0, inplace=True)\n"
          ]
        }
      ]
    },
    {
      "cell_type": "code",
      "source": [
        "import matplotlib.pyplot as plt\n",
        "\n",
        "yearly_trend = data.groupby('Year')['Illnesses'].sum()\n",
        "\n",
        "# Plot the trend\n",
        "plt.figure(figsize=(10, 6))\n",
        "plt.plot(yearly_trend.index, yearly_trend.values, marker='o', linestyle='-')\n",
        "plt.title('Yearly Trend of Foodborne Illnesses', fontsize=14)\n",
        "plt.xlabel('Year', fontsize=12)\n",
        "plt.ylabel('Total Illnesses', fontsize=12)\n",
        "plt.grid(True)\n",
        "plt.show()\n",
        "\n",
        "print(\"\\nYearly Illnesses Trend:\\n\", yearly_trend)\n"
      ],
      "metadata": {
        "colab": {
          "base_uri": "https://localhost:8080/",
          "height": 962
        },
        "id": "lp0GfMrkaElX",
        "outputId": "9e75c7cf-070f-425e-cdb9-f01196935eac"
      },
      "execution_count": 3,
      "outputs": [
        {
          "output_type": "display_data",
          "data": {
            "text/plain": [
              "<Figure size 1000x600 with 1 Axes>"
            ],
            "image/png": "[encoded data removed]"
          },
          "metadata": {}
        },
        {
          "output_type": "stream",
          "name": "stdout",
          "text": [
            "\n",
            "Yearly Illnesses Trend:\n",
            " Year\n",
            "1998    27156\n",
            "1999    24899\n",
            "2000    26033\n",
            "2001    25192\n",
            "2002    24939\n",
            "2003    23079\n",
            "2004    29034\n",
            "2005    19761\n",
            "2006    28656\n",
            "2007    20970\n",
            "2008    23089\n",
            "2009    13813\n",
            "2010    15893\n",
            "2011    14278\n",
            "2012    14995\n",
            "2013    13431\n",
            "2014    13295\n",
            "2015    15018\n",
            "Name: Illnesses, dtype: int64\n"
          ]
        }
      ]
    },
    {
      "cell_type": "code",
      "source": [
        "contaminant_impact = data.groupby('Species').agg({\n",
        "    'Illnesses': 'sum',\n",
        "    'Hospitalizations': 'sum',\n",
        "    'Fatalities': 'sum'\n",
        "}).sort_values(by='Illnesses', ascending=False)\n",
        "\n",
        "# Display top 5 contaminants\n",
        "print(\"\\nTop 5 Contaminants:\\n\", contaminant_impact.head(5))\n"
      ],
      "metadata": {
        "colab": {
          "base_uri": "https://localhost:8080/"
        },
        "id": "Hxbe8o7raHQk",
        "outputId": "6942fdcd-fb10-4e01-e0c2-2e966319549c"
      },
      "execution_count": 4,
      "outputs": [
        {
          "output_type": "stream",
          "name": "stdout",
          "text": [
            "\n",
            "Top 5 Contaminants:\n",
            "                          Illnesses  Hospitalizations  Fatalities\n",
            "Species                                                         \n",
            "Unknown                      77954             967.0        27.0\n",
            "Norovirus genogroup I        76406             668.0         2.0\n",
            "Salmonella enterica          60018            6888.0        82.0\n",
            "Norovirus genogroup II       38175             518.0         6.0\n",
            "Clostridium perfringens      28734             106.0        12.0\n"
          ]
        }
      ]
    },
    {
      "cell_type": "code",
      "source": [
        "location_risk = data.groupby('Location')['Illnesses'].sum().sort_values(ascending=False)\n",
        "\n",
        "# Display top 5 high-risk locations\n",
        "print(\"\\nTop 5 High-Risk Locations:\\n\", location_risk.head(5))\n"
      ],
      "metadata": {
        "colab": {
          "base_uri": "https://localhost:8080/"
        },
        "id": "BmQCn-I8aJVx",
        "outputId": "ab89ecf3-b519-4767-aaad-6a4a3fabc16e"
      },
      "execution_count": 5,
      "outputs": [
        {
          "output_type": "stream",
          "name": "stdout",
          "text": [
            "\n",
            "Top 5 High-Risk Locations:\n",
            " Location\n",
            "Restaurant                131970\n",
            "Unknown                    66015\n",
            "Catering Service           36044\n",
            "Private Home/Residence     22564\n",
            "Prison/Jail                20608\n",
            "Name: Illnesses, dtype: int64\n"
          ]
        }
      ]
    },
    {
      "cell_type": "code",
      "source": [
        "from sklearn.model_selection import train_test_split\n",
        "from sklearn.ensemble import RandomForestRegressor\n",
        "\n",
        "features = data[['Hospitalizations', 'Fatalities']].fillna(0)\n",
        "target = data['Illnesses']\n",
        "\n",
        "X_train, X_test, y_train, y_test = train_test_split(features, target, test_size=0.2, random_state=42)\n",
        "\n",
        "model = RandomForestRegressor(random_state=42)\n",
        "model.fit(X_train, y_train)\n",
        "\n",
        "score = model.score(X_test, y_test)\n",
        "print(\"\\nModel Accuracy (R^2):\", score)\n",
        "\n",
        "predictions = model.predict(X_test[:5])\n",
        "print(\"\\nSample Predictions:\\n\", predictions)\n"
      ],
      "metadata": {
        "colab": {
          "base_uri": "https://localhost:8080/"
        },
        "id": "l865d7QOaMEc",
        "outputId": "d831c9e4-6c64-477d-a161-ab5335419754"
      },
      "execution_count": 6,
      "outputs": [
        {
          "output_type": "stream",
          "name": "stdout",
          "text": [
            "\n",
            "Model Accuracy (R^2): -0.03982444362794335\n",
            "\n",
            "Sample Predictions:\n",
            " [16.68060166 16.68060166 16.68060166 21.85633102 16.68060166]\n"
          ]
        }
      ]
    },
    {
      "cell_type": "code",
      "source": [
        "from sklearn.model_selection import train_test_split, GridSearchCV\n",
        "from sklearn.ensemble import RandomForestRegressor\n",
        "from sklearn.metrics import mean_squared_error\n",
        "\n",
        "features = data[['Hospitalizations', 'Fatalities']].fillna(0)\n",
        "target = data['Illnesses']\n",
        "\n",
        "X_train, X_test, y_train, y_test = train_test_split(features, target, test_size=0.2, random_state=42)\n",
        "\n",
        "param_grid = {\n",
        "    'n_estimators': [50, 100, 200],\n",
        "    'max_depth': [10, 20, None],\n",
        "    'min_samples_split': [2, 5, 10],\n",
        "    'min_samples_leaf': [1, 2, 4],\n",
        "}\n",
        "\n",
        "rf = RandomForestRegressor(random_state=42)\n",
        "\n",
        "grid_search = GridSearchCV(estimator=rf, param_grid=param_grid, cv=3, scoring='neg_mean_squared_error', verbose=1, n_jobs=-1)\n",
        "grid_search.fit(X_train, y_train)\n",
        "\n",
        "best_model = grid_search.best_estimator_\n",
        "\n",
        "best_model.fit(X_train, y_train)\n",
        "\n",
        "# Evaluate the model on test data\n",
        "predictions = best_model.predict(X_test)\n",
        "mse = mean_squared_error(y_test, predictions)\n",
        "print(f\"\\nMean Squared Error: {mse}\")\n",
        "print(f\"Model R^2 Score: {best_model.score(X_test, y_test)}\")\n"
      ],
      "metadata": {
        "colab": {
          "base_uri": "https://localhost:8080/"
        },
        "id": "3uQfDqi4aPOf",
        "outputId": "3b8db062-b07a-4ece-a8a9-1d00c9f922e3"
      },
      "execution_count": 7,
      "outputs": [
        {
          "output_type": "stream",
          "name": "stdout",
          "text": [
            "Fitting 3 folds for each of 81 candidates, totalling 243 fits\n",
            "\n",
            "Mean Squared Error: 1840.6284732442152\n",
            "Model R^2 Score: 0.03278936165014601\n"
          ]
        }
      ]
    },
    {
      "cell_type": "code",
      "source": [
        "from tensorflow.keras.models import Sequential\n",
        "from tensorflow.keras.layers import Dense, Dropout\n",
        "from tensorflow.keras.callbacks import EarlyStopping\n",
        "\n",
        "model = Sequential([\n",
        "    Dense(64, activation='relu', input_shape=(features.shape[1],)),\n",
        "    Dropout(0.2),  # Dropout to reduce overfitting\n",
        "    Dense(32, activation='relu'),\n",
        "    Dense(1, activation='linear')\n",
        "])\n",
        "\n",
        "model.compile(optimizer='adam', loss='mean_squared_error', metrics=['mae'])\n",
        "\n",
        "early_stop = EarlyStopping(monitor='val_loss', patience=5, restore_best_weights=True)\n",
        "\n",
        "# Train the model\n",
        "history = model.fit(X_train, y_train, validation_split=0.2, epochs=50, batch_size=16, callbacks=[early_stop])\n",
        "\n",
        "# Evaluate the model\n",
        "loss, mae = model.evaluate(X_test, y_test, verbose=0)\n",
        "print(f\"\\nModel Loss: {loss}, Mean Absolute Error: {mae}\")"
      ],
      "metadata": {
        "colab": {
          "base_uri": "https://localhost:8080/"
        },
        "id": "mXaWsydBaYBl",
        "outputId": "e8546471-b5ae-44db-d2f7-64ea96cb90b1"
      },
      "execution_count": 8,
      "outputs": [
        {
          "output_type": "stream",
          "name": "stderr",
          "text": [
            "/usr/local/lib/python3.10/dist-packages/keras/src/layers/core/dense.py:87: UserWarning: Do not pass an `input_shape`/`input_dim` argument to a layer. When using Sequential models, prefer using an `Input(shape)` object as the first layer in the model instead.\n",
            "  super().__init__(activity_regularizer=activity_regularizer, **kwargs)\n"
          ]
        },
        {
          "output_type": "stream",
          "name": "stdout",
          "text": [
            "Epoch 1/50\n",
            "\u001b[1m765/765\u001b[0m \u001b[32m━━━━━━━━━━━━━━━━━━━━\u001b[0m\u001b[37m\u001b[0m \u001b[1m5s\u001b[0m 4ms/step - loss: 2569.8167 - mae: 17.6265 - val_loss: 2714.3367 - val_mae: 18.3191\n",
            "Epoch 2/50\n",
            "\u001b[1m765/765\u001b[0m \u001b[32m━━━━━━━━━━━━━━━━━━━━\u001b[0m\u001b[37m\u001b[0m \u001b[1m2s\u001b[0m 2ms/step - loss: 2298.2805 - mae: 17.4736 - val_loss: 2709.1772 - val_mae: 18.4889\n",
            "Epoch 3/50\n",
            "\u001b[1m765/765\u001b[0m \u001b[32m━━━━━━━━━━━━━━━━━━━━\u001b[0m\u001b[37m\u001b[0m \u001b[1m3s\u001b[0m 2ms/step - loss: 2279.6726 - mae: 18.5704 - val_loss: 2704.5642 - val_mae: 18.4351\n",
            "Epoch 4/50\n",
            "\u001b[1m765/765\u001b[0m \u001b[32m━━━━━━━━━━━━━━━━━━━━\u001b[0m\u001b[37m\u001b[0m \u001b[1m3s\u001b[0m 3ms/step - loss: 1627.0358 - mae: 17.1545 - val_loss: 2711.0750 - val_mae: 19.8692\n",
            "Epoch 5/50\n",
            "\u001b[1m765/765\u001b[0m \u001b[32m━━━━━━━━━━━━━━━━━━━━\u001b[0m\u001b[37m\u001b[0m \u001b[1m2s\u001b[0m 2ms/step - loss: 2088.1294 - mae: 18.9863 - val_loss: 2702.1313 - val_mae: 18.0830\n",
            "Epoch 6/50\n",
            "\u001b[1m765/765\u001b[0m \u001b[32m━━━━━━━━━━━━━━━━━━━━\u001b[0m\u001b[37m\u001b[0m \u001b[1m3s\u001b[0m 2ms/step - loss: 2436.0620 - mae: 18.2490 - val_loss: 2702.1091 - val_mae: 18.7988\n",
            "Epoch 7/50\n",
            "\u001b[1m765/765\u001b[0m \u001b[32m━━━━━━━━━━━━━━━━━━━━\u001b[0m\u001b[37m\u001b[0m \u001b[1m2s\u001b[0m 2ms/step - loss: 2021.6630 - mae: 17.5960 - val_loss: 2690.2832 - val_mae: 18.7323\n",
            "Epoch 8/50\n",
            "\u001b[1m765/765\u001b[0m \u001b[32m━━━━━━━━━━━━━━━━━━━━\u001b[0m\u001b[37m\u001b[0m \u001b[1m1s\u001b[0m 2ms/step - loss: 1445.6866 - mae: 16.8872 - val_loss: 2687.2249 - val_mae: 18.9920\n",
            "Epoch 9/50\n",
            "\u001b[1m765/765\u001b[0m \u001b[32m━━━━━━━━━━━━━━━━━━━━\u001b[0m\u001b[37m\u001b[0m \u001b[1m3s\u001b[0m 2ms/step - loss: 1600.3953 - mae: 17.3080 - val_loss: 2692.1165 - val_mae: 19.3557\n",
            "Epoch 10/50\n",
            "\u001b[1m765/765\u001b[0m \u001b[32m━━━━━━━━━━━━━━━━━━━━\u001b[0m\u001b[37m\u001b[0m \u001b[1m3s\u001b[0m 2ms/step - loss: 2647.4048 - mae: 18.0292 - val_loss: 2682.9250 - val_mae: 18.9351\n",
            "Epoch 11/50\n",
            "\u001b[1m765/765\u001b[0m \u001b[32m━━━━━━━━━━━━━━━━━━━━\u001b[0m\u001b[37m\u001b[0m \u001b[1m2s\u001b[0m 2ms/step - loss: 1834.8024 - mae: 17.6721 - val_loss: 2681.1841 - val_mae: 18.8767\n",
            "Epoch 12/50\n",
            "\u001b[1m765/765\u001b[0m \u001b[32m━━━━━━━━━━━━━━━━━━━━\u001b[0m\u001b[37m\u001b[0m \u001b[1m3s\u001b[0m 2ms/step - loss: 1737.9102 - mae: 17.3842 - val_loss: 2676.2476 - val_mae: 19.2155\n",
            "Epoch 13/50\n",
            "\u001b[1m765/765\u001b[0m \u001b[32m━━━━━━━━━━━━━━━━━━━━\u001b[0m\u001b[37m\u001b[0m \u001b[1m2s\u001b[0m 2ms/step - loss: 1631.6549 - mae: 17.7091 - val_loss: 2674.8015 - val_mae: 18.5614\n",
            "Epoch 14/50\n",
            "\u001b[1m765/765\u001b[0m \u001b[32m━━━━━━━━━━━━━━━━━━━━\u001b[0m\u001b[37m\u001b[0m \u001b[1m3s\u001b[0m 2ms/step - loss: 1724.2870 - mae: 17.4808 - val_loss: 2670.8552 - val_mae: 19.0230\n",
            "Epoch 15/50\n",
            "\u001b[1m765/765\u001b[0m \u001b[32m━━━━━━━━━━━━━━━━━━━━\u001b[0m\u001b[37m\u001b[0m \u001b[1m2s\u001b[0m 3ms/step - loss: 1934.5444 - mae: 17.7229 - val_loss: 2670.3486 - val_mae: 18.9181\n",
            "Epoch 16/50\n",
            "\u001b[1m765/765\u001b[0m \u001b[32m━━━━━━━━━━━━━━━━━━━━\u001b[0m\u001b[37m\u001b[0m \u001b[1m2s\u001b[0m 3ms/step - loss: 1759.4326 - mae: 17.8555 - val_loss: 2667.6299 - val_mae: 19.2505\n",
            "Epoch 17/50\n",
            "\u001b[1m765/765\u001b[0m \u001b[32m━━━━━━━━━━━━━━━━━━━━\u001b[0m\u001b[37m\u001b[0m \u001b[1m2s\u001b[0m 2ms/step - loss: 1914.8423 - mae: 17.8299 - val_loss: 2670.6641 - val_mae: 18.7150\n",
            "Epoch 18/50\n",
            "\u001b[1m765/765\u001b[0m \u001b[32m━━━━━━━━━━━━━━━━━━━━\u001b[0m\u001b[37m\u001b[0m \u001b[1m2s\u001b[0m 2ms/step - loss: 1650.5822 - mae: 17.2362 - val_loss: 2663.5493 - val_mae: 19.1967\n",
            "Epoch 19/50\n",
            "\u001b[1m765/765\u001b[0m \u001b[32m━━━━━━━━━━━━━━━━━━━━\u001b[0m\u001b[37m\u001b[0m \u001b[1m3s\u001b[0m 2ms/step - loss: 1631.8260 - mae: 17.5048 - val_loss: 2664.0364 - val_mae: 18.8581\n",
            "Epoch 20/50\n",
            "\u001b[1m765/765\u001b[0m \u001b[32m━━━━━━━━━━━━━━━━━━━━\u001b[0m\u001b[37m\u001b[0m \u001b[1m1s\u001b[0m 2ms/step - loss: 2472.9636 - mae: 18.8320 - val_loss: 2664.2549 - val_mae: 18.8676\n",
            "Epoch 21/50\n",
            "\u001b[1m765/765\u001b[0m \u001b[32m━━━━━━━━━━━━━━━━━━━━\u001b[0m\u001b[37m\u001b[0m \u001b[1m3s\u001b[0m 3ms/step - loss: 1933.9857 - mae: 17.2032 - val_loss: 2669.3586 - val_mae: 18.7192\n",
            "Epoch 22/50\n",
            "\u001b[1m765/765\u001b[0m \u001b[32m━━━━━━━━━━━━━━━━━━━━\u001b[0m\u001b[37m\u001b[0m \u001b[1m2s\u001b[0m 3ms/step - loss: 1926.4097 - mae: 17.7320 - val_loss: 2664.3550 - val_mae: 18.5708\n",
            "Epoch 23/50\n",
            "\u001b[1m765/765\u001b[0m \u001b[32m━━━━━━━━━━━━━━━━━━━━\u001b[0m\u001b[37m\u001b[0m \u001b[1m2s\u001b[0m 2ms/step - loss: 2855.3555 - mae: 18.1175 - val_loss: 2660.3279 - val_mae: 18.3321\n",
            "Epoch 24/50\n",
            "\u001b[1m765/765\u001b[0m \u001b[32m━━━━━━━━━━━━━━━━━━━━\u001b[0m\u001b[37m\u001b[0m \u001b[1m1s\u001b[0m 2ms/step - loss: 1920.5447 - mae: 17.4665 - val_loss: 2661.5623 - val_mae: 18.4072\n",
            "Epoch 25/50\n",
            "\u001b[1m765/765\u001b[0m \u001b[32m━━━━━━━━━━━━━━━━━━━━\u001b[0m\u001b[37m\u001b[0m \u001b[1m1s\u001b[0m 2ms/step - loss: 2154.1423 - mae: 17.9613 - val_loss: 2655.2346 - val_mae: 18.6582\n",
            "Epoch 26/50\n",
            "\u001b[1m765/765\u001b[0m \u001b[32m━━━━━━━━━━━━━━━━━━━━\u001b[0m\u001b[37m\u001b[0m \u001b[1m3s\u001b[0m 2ms/step - loss: 2362.1526 - mae: 18.4462 - val_loss: 2662.5032 - val_mae: 18.4030\n",
            "Epoch 27/50\n",
            "\u001b[1m765/765\u001b[0m \u001b[32m━━━━━━━━━━━━━━━━━━━━\u001b[0m\u001b[37m\u001b[0m \u001b[1m3s\u001b[0m 2ms/step - loss: 1777.4565 - mae: 17.2270 - val_loss: 2656.5552 - val_mae: 19.2834\n",
            "Epoch 28/50\n",
            "\u001b[1m765/765\u001b[0m \u001b[32m━━━━━━━━━━━━━━━━━━━━\u001b[0m\u001b[37m\u001b[0m \u001b[1m4s\u001b[0m 3ms/step - loss: 2063.8079 - mae: 18.1343 - val_loss: 2674.8633 - val_mae: 18.2145\n",
            "Epoch 29/50\n",
            "\u001b[1m765/765\u001b[0m \u001b[32m━━━━━━━━━━━━━━━━━━━━\u001b[0m\u001b[37m\u001b[0m \u001b[1m2s\u001b[0m 2ms/step - loss: 2040.8854 - mae: 18.1418 - val_loss: 2658.4888 - val_mae: 18.8819\n",
            "Epoch 30/50\n",
            "\u001b[1m765/765\u001b[0m \u001b[32m━━━━━━━━━━━━━━━━━━━━\u001b[0m\u001b[37m\u001b[0m \u001b[1m2s\u001b[0m 2ms/step - loss: 2212.2703 - mae: 18.5293 - val_loss: 2660.0068 - val_mae: 19.0162\n",
            "\n",
            "Model Loss: 1788.841552734375, Mean Absolute Error: 17.508132934570312\n"
          ]
        }
      ]
    },
    {
      "cell_type": "code",
      "source": [
        "from sklearn.preprocessing import StandardScaler\n",
        "\n",
        "scaler = StandardScaler()\n",
        "X_train_scaled = scaler.fit_transform(X_train)\n",
        "X_test_scaled = scaler.transform(X_test)\n"
      ],
      "metadata": {
        "id": "XS5wJY2wbU0f"
      },
      "execution_count": 9,
      "outputs": []
    },
    {
      "cell_type": "code",
      "source": [
        "model = Sequential([\n",
        "    Dense(128, activation='relu', input_shape=(features.shape[1],)),\n",
        "    Dropout(0.3),\n",
        "    Dense(64, activation='relu'),\n",
        "    Dense(32, activation='relu'),\n",
        "    Dense(1, activation='linear')\n",
        "])\n"
      ],
      "metadata": {
        "colab": {
          "base_uri": "https://localhost:8080/"
        },
        "id": "cGLJFxlZbXTj",
        "outputId": "4dcb34ce-f0e8-4a3a-c00b-97d29139f0c9"
      },
      "execution_count": 10,
      "outputs": [
        {
          "output_type": "stream",
          "name": "stderr",
          "text": [
            "/usr/local/lib/python3.10/dist-packages/keras/src/layers/core/dense.py:87: UserWarning: Do not pass an `input_shape`/`input_dim` argument to a layer. When using Sequential models, prefer using an `Input(shape)` object as the first layer in the model instead.\n",
            "  super().__init__(activity_regularizer=activity_regularizer, **kwargs)\n"
          ]
        }
      ]
    },
    {
      "cell_type": "code",
      "source": [
        "from tensorflow.keras.optimizers import Adam\n",
        "\n",
        "optimizer = Adam(learning_rate=0.001)  # Try lower values like 0.0005\n",
        "model.compile(optimizer=optimizer, loss='mean_squared_error', metrics=['mae'])\n"
      ],
      "metadata": {
        "id": "S0rEum6BbZSk"
      },
      "execution_count": 11,
      "outputs": []
    },
    {
      "cell_type": "code",
      "source": [
        "early_stop = EarlyStopping(monitor='val_loss', patience=10, restore_best_weights=True)\n",
        "history = model.fit(X_train_scaled, y_train, validation_split=0.2, epochs=100, batch_size=16, callbacks=[early_stop])\n"
      ],
      "metadata": {
        "colab": {
          "base_uri": "https://localhost:8080/"
        },
        "id": "8kvce5uOba6S",
        "outputId": "7f151dd9-048a-4977-e870-bca528644e95"
      },
      "execution_count": 12,
      "outputs": [
        {
          "output_type": "stream",
          "name": "stdout",
          "text": [
            "Epoch 1/100\n",
            "\u001b[1m765/765\u001b[0m \u001b[32m━━━━━━━━━━━━━━━━━━━━\u001b[0m\u001b[37m\u001b[0m \u001b[1m8s\u001b[0m 6ms/step - loss: 2756.3650 - mae: 18.5640 - val_loss: 2711.2603 - val_mae: 17.4205\n",
            "Epoch 2/100\n",
            "\u001b[1m765/765\u001b[0m \u001b[32m━━━━━━━━━━━━━━━━━━━━\u001b[0m\u001b[37m\u001b[0m \u001b[1m2s\u001b[0m 2ms/step - loss: 2344.8628 - mae: 18.0665 - val_loss: 2675.4773 - val_mae: 18.2669\n",
            "Epoch 3/100\n",
            "\u001b[1m765/765\u001b[0m \u001b[32m━━━━━━━━━━━━━━━━━━━━\u001b[0m\u001b[37m\u001b[0m \u001b[1m2s\u001b[0m 2ms/step - loss: 1856.1418 - mae: 17.8346 - val_loss: 2673.3879 - val_mae: 18.2348\n",
            "Epoch 4/100\n",
            "\u001b[1m765/765\u001b[0m \u001b[32m━━━━━━━━━━━━━━━━━━━━\u001b[0m\u001b[37m\u001b[0m \u001b[1m3s\u001b[0m 2ms/step - loss: 1889.5085 - mae: 17.6527 - val_loss: 2660.7422 - val_mae: 19.3547\n",
            "Epoch 5/100\n",
            "\u001b[1m765/765\u001b[0m \u001b[32m━━━━━━━━━━━━━━━━━━━━\u001b[0m\u001b[37m\u001b[0m \u001b[1m5s\u001b[0m 5ms/step - loss: 1887.4961 - mae: 17.8851 - val_loss: 2673.7817 - val_mae: 18.1554\n",
            "Epoch 6/100\n",
            "\u001b[1m765/765\u001b[0m \u001b[32m━━━━━━━━━━━━━━━━━━━━\u001b[0m\u001b[37m\u001b[0m \u001b[1m2s\u001b[0m 3ms/step - loss: 1759.5262 - mae: 17.5451 - val_loss: 2657.7292 - val_mae: 19.3762\n",
            "Epoch 7/100\n",
            "\u001b[1m765/765\u001b[0m \u001b[32m━━━━━━━━━━━━━━━━━━━━\u001b[0m\u001b[37m\u001b[0m \u001b[1m2s\u001b[0m 2ms/step - loss: 2078.3997 - mae: 17.8431 - val_loss: 2659.5417 - val_mae: 18.2778\n",
            "Epoch 8/100\n",
            "\u001b[1m765/765\u001b[0m \u001b[32m━━━━━━━━━━━━━━━━━━━━\u001b[0m\u001b[37m\u001b[0m \u001b[1m2s\u001b[0m 2ms/step - loss: 2185.0061 - mae: 17.9683 - val_loss: 2683.6318 - val_mae: 18.5867\n",
            "Epoch 9/100\n",
            "\u001b[1m765/765\u001b[0m \u001b[32m━━━━━━━━━━━━━━━━━━━━\u001b[0m\u001b[37m\u001b[0m \u001b[1m1s\u001b[0m 2ms/step - loss: 2156.3083 - mae: 18.2121 - val_loss: 2668.3171 - val_mae: 18.0898\n",
            "Epoch 10/100\n",
            "\u001b[1m765/765\u001b[0m \u001b[32m━━━━━━━━━━━━━━━━━━━━\u001b[0m\u001b[37m\u001b[0m \u001b[1m2s\u001b[0m 2ms/step - loss: 1604.5770 - mae: 16.8528 - val_loss: 2661.9355 - val_mae: 18.6101\n",
            "Epoch 11/100\n",
            "\u001b[1m765/765\u001b[0m \u001b[32m━━━━━━━━━━━━━━━━━━━━\u001b[0m\u001b[37m\u001b[0m \u001b[1m4s\u001b[0m 3ms/step - loss: 2376.2744 - mae: 17.9298 - val_loss: 2672.5457 - val_mae: 18.2159\n",
            "Epoch 12/100\n",
            "\u001b[1m765/765\u001b[0m \u001b[32m━━━━━━━━━━━━━━━━━━━━\u001b[0m\u001b[37m\u001b[0m \u001b[1m4s\u001b[0m 2ms/step - loss: 1901.0312 - mae: 17.8990 - val_loss: 2663.1555 - val_mae: 18.4522\n",
            "Epoch 13/100\n",
            "\u001b[1m765/765\u001b[0m \u001b[32m━━━━━━━━━━━━━━━━━━━━\u001b[0m\u001b[37m\u001b[0m \u001b[1m2s\u001b[0m 2ms/step - loss: 2002.7892 - mae: 18.1112 - val_loss: 2684.4534 - val_mae: 18.7009\n",
            "Epoch 14/100\n",
            "\u001b[1m765/765\u001b[0m \u001b[32m━━━━━━━━━━━━━━━━━━━━\u001b[0m\u001b[37m\u001b[0m \u001b[1m2s\u001b[0m 2ms/step - loss: 1995.5884 - mae: 17.2073 - val_loss: 2663.0349 - val_mae: 19.0349\n",
            "Epoch 15/100\n",
            "\u001b[1m765/765\u001b[0m \u001b[32m━━━━━━━━━━━━━━━━━━━━\u001b[0m\u001b[37m\u001b[0m \u001b[1m2s\u001b[0m 2ms/step - loss: 2809.6216 - mae: 18.5472 - val_loss: 2673.8044 - val_mae: 17.7753\n",
            "Epoch 16/100\n",
            "\u001b[1m765/765\u001b[0m \u001b[32m━━━━━━━━━━━━━━━━━━━━\u001b[0m\u001b[37m\u001b[0m \u001b[1m3s\u001b[0m 3ms/step - loss: 2229.7676 - mae: 18.2158 - val_loss: 2679.0198 - val_mae: 18.5662\n"
          ]
        }
      ]
    },
    {
      "cell_type": "code",
      "source": [
        "data['Illness_per_Hospitalization'] = data['Illnesses'] / (data['Hospitalizations'] + 1)\n"
      ],
      "metadata": {
        "id": "WvVuHZL_bcxU"
      },
      "execution_count": 13,
      "outputs": []
    },
    {
      "cell_type": "code",
      "source": [
        "from tensorflow.keras.regularizers import l2\n",
        "\n",
        "model = Sequential([\n",
        "    Dense(128, activation='relu', kernel_regularizer=l2(0.01), input_shape=(features.shape[1],)),\n",
        "    Dropout(0.3),\n",
        "    Dense(64, activation='relu', kernel_regularizer=l2(0.01)),\n",
        "    Dense(32, activation='relu'),\n",
        "    Dense(1, activation='linear')\n",
        "])\n"
      ],
      "metadata": {
        "colab": {
          "base_uri": "https://localhost:8080/"
        },
        "id": "kouaVjZ7be9Z",
        "outputId": "5af80222-128e-4232-9205-d73d326d136a"
      },
      "execution_count": 14,
      "outputs": [
        {
          "output_type": "stream",
          "name": "stderr",
          "text": [
            "/usr/local/lib/python3.10/dist-packages/keras/src/layers/core/dense.py:87: UserWarning: Do not pass an `input_shape`/`input_dim` argument to a layer. When using Sequential models, prefer using an `Input(shape)` object as the first layer in the model instead.\n",
            "  super().__init__(activity_regularizer=activity_regularizer, **kwargs)\n"
          ]
        }
      ]
    },
    {
      "cell_type": "code",
      "source": [
        "model.compile(optimizer='adam', loss='mean_squared_error', metrics=['mae'])\n"
      ],
      "metadata": {
        "id": "1tjF_b9zbgOp"
      },
      "execution_count": 16,
      "outputs": []
    },
    {
      "cell_type": "code",
      "source": [
        "model.compile(optimizer='adam', loss='mean_squared_error', metrics=['mae'])\n",
        "\n",
        "history = model.fit(X_train_scaled, y_train, validation_split=0.2, epochs=50, batch_size=16)\n",
        "\n",
        "# Evaluate the model\n",
        "loss, mae = model.evaluate(X_test_scaled, y_test, verbose=0)\n",
        "print(f\"Updated Model Loss: {loss}, Mean Absolute Error: {mae}\")\n"
      ],
      "metadata": {
        "colab": {
          "base_uri": "https://localhost:8080/"
        },
        "id": "NiDOoQ8zb9Ow",
        "outputId": "98bffba2-56d9-4a27-f8d9-cffa8a9df0eb"
      },
      "execution_count": 17,
      "outputs": [
        {
          "output_type": "stream",
          "name": "stdout",
          "text": [
            "Epoch 1/50\n",
            "\u001b[1m765/765\u001b[0m \u001b[32m━━━━━━━━━━━━━━━━━━━━\u001b[0m\u001b[37m\u001b[0m \u001b[1m6s\u001b[0m 5ms/step - loss: 2148.1621 - mae: 18.1356 - val_loss: 2689.0112 - val_mae: 19.2673\n",
            "Epoch 2/50\n",
            "\u001b[1m765/765\u001b[0m \u001b[32m━━━━━━━━━━━━━━━━━━━━\u001b[0m\u001b[37m\u001b[0m \u001b[1m2s\u001b[0m 3ms/step - loss: 1670.9867 - mae: 16.9510 - val_loss: 2666.6917 - val_mae: 19.7216\n",
            "Epoch 3/50\n",
            "\u001b[1m765/765\u001b[0m \u001b[32m━━━━━━━━━━━━━━━━━━━━\u001b[0m\u001b[37m\u001b[0m \u001b[1m2s\u001b[0m 2ms/step - loss: 1967.6786 - mae: 17.9131 - val_loss: 2660.2505 - val_mae: 20.4114\n",
            "Epoch 4/50\n",
            "\u001b[1m765/765\u001b[0m \u001b[32m━━━━━━━━━━━━━━━━━━━━\u001b[0m\u001b[37m\u001b[0m \u001b[1m2s\u001b[0m 2ms/step - loss: 2111.8721 - mae: 17.9693 - val_loss: 2663.5566 - val_mae: 18.9550\n",
            "Epoch 5/50\n",
            "\u001b[1m765/765\u001b[0m \u001b[32m━━━━━━━━━━━━━━━━━━━━\u001b[0m\u001b[37m\u001b[0m \u001b[1m2s\u001b[0m 2ms/step - loss: 1768.8708 - mae: 17.1263 - val_loss: 2686.1194 - val_mae: 19.1651\n",
            "Epoch 6/50\n",
            "\u001b[1m765/765\u001b[0m \u001b[32m━━━━━━━━━━━━━━━━━━━━\u001b[0m\u001b[37m\u001b[0m \u001b[1m3s\u001b[0m 2ms/step - loss: 2468.8665 - mae: 18.2981 - val_loss: 2674.3425 - val_mae: 18.9747\n",
            "Epoch 7/50\n",
            "\u001b[1m765/765\u001b[0m \u001b[32m━━━━━━━━━━━━━━━━━━━━\u001b[0m\u001b[37m\u001b[0m \u001b[1m3s\u001b[0m 2ms/step - loss: 1755.8271 - mae: 17.5662 - val_loss: 2670.0403 - val_mae: 19.7749\n",
            "Epoch 8/50\n",
            "\u001b[1m765/765\u001b[0m \u001b[32m━━━━━━━━━━━━━━━━━━━━\u001b[0m\u001b[37m\u001b[0m \u001b[1m3s\u001b[0m 3ms/step - loss: 2002.6479 - mae: 18.1418 - val_loss: 2669.8228 - val_mae: 18.9622\n",
            "Epoch 9/50\n",
            "\u001b[1m765/765\u001b[0m \u001b[32m━━━━━━━━━━━━━━━━━━━━\u001b[0m\u001b[37m\u001b[0m \u001b[1m2s\u001b[0m 2ms/step - loss: 1468.0771 - mae: 16.9616 - val_loss: 2662.6072 - val_mae: 18.9186\n",
            "Epoch 10/50\n",
            "\u001b[1m765/765\u001b[0m \u001b[32m━━━━━━━━━━━━━━━━━━━━\u001b[0m\u001b[37m\u001b[0m \u001b[1m3s\u001b[0m 2ms/step - loss: 2165.6289 - mae: 18.0890 - val_loss: 2669.1250 - val_mae: 18.8662\n",
            "Epoch 11/50\n",
            "\u001b[1m765/765\u001b[0m \u001b[32m━━━━━━━━━━━━━━━━━━━━\u001b[0m\u001b[37m\u001b[0m \u001b[1m2s\u001b[0m 2ms/step - loss: 1772.0760 - mae: 17.2475 - val_loss: 2686.1675 - val_mae: 18.4209\n",
            "Epoch 12/50\n",
            "\u001b[1m765/765\u001b[0m \u001b[32m━━━━━━━━━━━━━━━━━━━━\u001b[0m\u001b[37m\u001b[0m \u001b[1m3s\u001b[0m 2ms/step - loss: 2188.0718 - mae: 18.4016 - val_loss: 2682.4951 - val_mae: 17.9371\n",
            "Epoch 13/50\n",
            "\u001b[1m765/765\u001b[0m \u001b[32m━━━━━━━━━━━━━━━━━━━━\u001b[0m\u001b[37m\u001b[0m \u001b[1m2s\u001b[0m 2ms/step - loss: 1598.4257 - mae: 17.1775 - val_loss: 2685.3372 - val_mae: 18.6946\n",
            "Epoch 14/50\n",
            "\u001b[1m765/765\u001b[0m \u001b[32m━━━━━━━━━━━━━━━━━━━━\u001b[0m\u001b[37m\u001b[0m \u001b[1m2s\u001b[0m 3ms/step - loss: 1862.0554 - mae: 17.6031 - val_loss: 2690.8555 - val_mae: 20.9780\n",
            "Epoch 15/50\n",
            "\u001b[1m765/765\u001b[0m \u001b[32m━━━━━━━━━━━━━━━━━━━━\u001b[0m\u001b[37m\u001b[0m \u001b[1m2s\u001b[0m 2ms/step - loss: 2187.1562 - mae: 18.8971 - val_loss: 2681.0789 - val_mae: 18.3820\n",
            "Epoch 16/50\n",
            "\u001b[1m765/765\u001b[0m \u001b[32m━━━━━━━━━━━━━━━━━━━━\u001b[0m\u001b[37m\u001b[0m \u001b[1m2s\u001b[0m 2ms/step - loss: 2143.4739 - mae: 18.1783 - val_loss: 2677.2793 - val_mae: 18.0757\n",
            "Epoch 17/50\n",
            "\u001b[1m765/765\u001b[0m \u001b[32m━━━━━━━━━━━━━━━━━━━━\u001b[0m\u001b[37m\u001b[0m \u001b[1m3s\u001b[0m 2ms/step - loss: 1905.2520 - mae: 17.5420 - val_loss: 2678.3044 - val_mae: 18.6528\n",
            "Epoch 18/50\n",
            "\u001b[1m765/765\u001b[0m \u001b[32m━━━━━━━━━━━━━━━━━━━━\u001b[0m\u001b[37m\u001b[0m \u001b[1m2s\u001b[0m 2ms/step - loss: 1284.4890 - mae: 16.7424 - val_loss: 2678.5659 - val_mae: 19.9218\n",
            "Epoch 19/50\n",
            "\u001b[1m765/765\u001b[0m \u001b[32m━━━━━━━━━━━━━━━━━━━━\u001b[0m\u001b[37m\u001b[0m \u001b[1m2s\u001b[0m 2ms/step - loss: 2175.2415 - mae: 18.0549 - val_loss: 2667.5105 - val_mae: 19.7815\n",
            "Epoch 20/50\n",
            "\u001b[1m765/765\u001b[0m \u001b[32m━━━━━━━━━━━━━━━━━━━━\u001b[0m\u001b[37m\u001b[0m \u001b[1m3s\u001b[0m 3ms/step - loss: 1539.2592 - mae: 17.3100 - val_loss: 2667.0132 - val_mae: 19.3283\n",
            "Epoch 21/50\n",
            "\u001b[1m765/765\u001b[0m \u001b[32m━━━━━━━━━━━━━━━━━━━━\u001b[0m\u001b[37m\u001b[0m \u001b[1m2s\u001b[0m 2ms/step - loss: 1602.1643 - mae: 17.1885 - val_loss: 2680.8706 - val_mae: 17.9821\n",
            "Epoch 22/50\n",
            "\u001b[1m765/765\u001b[0m \u001b[32m━━━━━━━━━━━━━━━━━━━━\u001b[0m\u001b[37m\u001b[0m \u001b[1m2s\u001b[0m 2ms/step - loss: 1687.4357 - mae: 17.0989 - val_loss: 2676.0518 - val_mae: 18.5959\n",
            "Epoch 23/50\n",
            "\u001b[1m765/765\u001b[0m \u001b[32m━━━━━━━━━━━━━━━━━━━━\u001b[0m\u001b[37m\u001b[0m \u001b[1m3s\u001b[0m 2ms/step - loss: 2052.5474 - mae: 17.8867 - val_loss: 2663.1951 - val_mae: 19.3537\n",
            "Epoch 24/50\n",
            "\u001b[1m765/765\u001b[0m \u001b[32m━━━━━━━━━━━━━━━━━━━━\u001b[0m\u001b[37m\u001b[0m \u001b[1m3s\u001b[0m 2ms/step - loss: 1830.4120 - mae: 17.7367 - val_loss: 2675.1829 - val_mae: 18.3144\n",
            "Epoch 25/50\n",
            "\u001b[1m765/765\u001b[0m \u001b[32m━━━━━━━━━━━━━━━━━━━━\u001b[0m\u001b[37m\u001b[0m \u001b[1m3s\u001b[0m 3ms/step - loss: 1951.3793 - mae: 17.9793 - val_loss: 2672.0972 - val_mae: 17.9537\n",
            "Epoch 26/50\n",
            "\u001b[1m765/765\u001b[0m \u001b[32m━━━━━━━━━━━━━━━━━━━━\u001b[0m\u001b[37m\u001b[0m \u001b[1m2s\u001b[0m 3ms/step - loss: 2657.7388 - mae: 18.0165 - val_loss: 2665.1436 - val_mae: 18.7794\n",
            "Epoch 27/50\n",
            "\u001b[1m765/765\u001b[0m \u001b[32m━━━━━━━━━━━━━━━━━━━━\u001b[0m\u001b[37m\u001b[0m \u001b[1m2s\u001b[0m 2ms/step - loss: 2627.8152 - mae: 18.6617 - val_loss: 2682.6047 - val_mae: 17.8302\n",
            "Epoch 28/50\n",
            "\u001b[1m765/765\u001b[0m \u001b[32m━━━━━━━━━━━━━━━━━━━━\u001b[0m\u001b[37m\u001b[0m \u001b[1m2s\u001b[0m 2ms/step - loss: 1874.4541 - mae: 17.3541 - val_loss: 2670.7168 - val_mae: 17.9513\n",
            "Epoch 29/50\n",
            "\u001b[1m765/765\u001b[0m \u001b[32m━━━━━━━━━━━━━━━━━━━━\u001b[0m\u001b[37m\u001b[0m \u001b[1m2s\u001b[0m 2ms/step - loss: 2068.5613 - mae: 17.9495 - val_loss: 2675.4834 - val_mae: 18.4295\n",
            "Epoch 30/50\n",
            "\u001b[1m765/765\u001b[0m \u001b[32m━━━━━━━━━━━━━━━━━━━━\u001b[0m\u001b[37m\u001b[0m \u001b[1m2s\u001b[0m 2ms/step - loss: 1953.8159 - mae: 17.6349 - val_loss: 2666.2761 - val_mae: 18.5536\n",
            "Epoch 31/50\n",
            "\u001b[1m765/765\u001b[0m \u001b[32m━━━━━━━━━━━━━━━━━━━━\u001b[0m\u001b[37m\u001b[0m \u001b[1m2s\u001b[0m 2ms/step - loss: 1985.5433 - mae: 17.6658 - val_loss: 2664.1333 - val_mae: 18.1591\n",
            "Epoch 32/50\n",
            "\u001b[1m765/765\u001b[0m \u001b[32m━━━━━━━━━━━━━━━━━━━━\u001b[0m\u001b[37m\u001b[0m \u001b[1m2s\u001b[0m 3ms/step - loss: 1862.2469 - mae: 17.6225 - val_loss: 2670.9819 - val_mae: 17.7958\n",
            "Epoch 33/50\n",
            "\u001b[1m765/765\u001b[0m \u001b[32m━━━━━━━━━━━━━━━━━━━━\u001b[0m\u001b[37m\u001b[0m \u001b[1m2s\u001b[0m 3ms/step - loss: 1941.8865 - mae: 17.4232 - val_loss: 2685.3782 - val_mae: 17.9916\n",
            "Epoch 34/50\n",
            "\u001b[1m765/765\u001b[0m \u001b[32m━━━━━━━━━━━━━━━━━━━━\u001b[0m\u001b[37m\u001b[0m \u001b[1m2s\u001b[0m 2ms/step - loss: 2040.4835 - mae: 17.5641 - val_loss: 2685.0264 - val_mae: 17.9144\n",
            "Epoch 35/50\n",
            "\u001b[1m765/765\u001b[0m \u001b[32m━━━━━━━━━━━━━━━━━━━━\u001b[0m\u001b[37m\u001b[0m \u001b[1m2s\u001b[0m 2ms/step - loss: 2476.5620 - mae: 18.9015 - val_loss: 2663.5710 - val_mae: 18.4037\n",
            "Epoch 36/50\n",
            "\u001b[1m765/765\u001b[0m \u001b[32m━━━━━━━━━━━━━━━━━━━━\u001b[0m\u001b[37m\u001b[0m \u001b[1m2s\u001b[0m 2ms/step - loss: 2023.3872 - mae: 17.9232 - val_loss: 2683.7283 - val_mae: 17.8251\n",
            "Epoch 37/50\n",
            "\u001b[1m765/765\u001b[0m \u001b[32m━━━━━━━━━━━━━━━━━━━━\u001b[0m\u001b[37m\u001b[0m \u001b[1m3s\u001b[0m 2ms/step - loss: 1879.9469 - mae: 17.8501 - val_loss: 2657.7559 - val_mae: 18.6844\n",
            "Epoch 38/50\n",
            "\u001b[1m765/765\u001b[0m \u001b[32m━━━━━━━━━━━━━━━━━━━━\u001b[0m\u001b[37m\u001b[0m \u001b[1m3s\u001b[0m 3ms/step - loss: 1899.6100 - mae: 17.5147 - val_loss: 2659.7603 - val_mae: 19.2548\n",
            "Epoch 39/50\n",
            "\u001b[1m765/765\u001b[0m \u001b[32m━━━━━━━━━━━━━━━━━━━━\u001b[0m\u001b[37m\u001b[0m \u001b[1m2s\u001b[0m 3ms/step - loss: 1744.1681 - mae: 17.6160 - val_loss: 2701.6687 - val_mae: 17.7589\n",
            "Epoch 40/50\n",
            "\u001b[1m765/765\u001b[0m \u001b[32m━━━━━━━━━━━━━━━━━━━━\u001b[0m\u001b[37m\u001b[0m \u001b[1m2s\u001b[0m 2ms/step - loss: 1685.1360 - mae: 17.0423 - val_loss: 2669.8455 - val_mae: 18.6601\n",
            "Epoch 41/50\n",
            "\u001b[1m765/765\u001b[0m \u001b[32m━━━━━━━━━━━━━━━━━━━━\u001b[0m\u001b[37m\u001b[0m \u001b[1m2s\u001b[0m 2ms/step - loss: 1733.2131 - mae: 17.7790 - val_loss: 2661.0757 - val_mae: 18.4226\n",
            "Epoch 42/50\n",
            "\u001b[1m765/765\u001b[0m \u001b[32m━━━━━━━━━━━━━━━━━━━━\u001b[0m\u001b[37m\u001b[0m \u001b[1m3s\u001b[0m 2ms/step - loss: 1513.6096 - mae: 17.0036 - val_loss: 2661.3215 - val_mae: 19.1961\n",
            "Epoch 43/50\n",
            "\u001b[1m765/765\u001b[0m \u001b[32m━━━━━━━━━━━━━━━━━━━━\u001b[0m\u001b[37m\u001b[0m \u001b[1m2s\u001b[0m 2ms/step - loss: 2072.3748 - mae: 18.1576 - val_loss: 2671.7119 - val_mae: 17.8428\n",
            "Epoch 44/50\n",
            "\u001b[1m765/765\u001b[0m \u001b[32m━━━━━━━━━━━━━━━━━━━━\u001b[0m\u001b[37m\u001b[0m \u001b[1m3s\u001b[0m 3ms/step - loss: 1941.6321 - mae: 17.7129 - val_loss: 2659.7224 - val_mae: 18.8739\n",
            "Epoch 45/50\n",
            "\u001b[1m765/765\u001b[0m \u001b[32m━━━━━━━━━━━━━━━━━━━━\u001b[0m\u001b[37m\u001b[0m \u001b[1m2s\u001b[0m 2ms/step - loss: 2323.0898 - mae: 18.2590 - val_loss: 2672.4480 - val_mae: 19.3353\n",
            "Epoch 46/50\n",
            "\u001b[1m765/765\u001b[0m \u001b[32m━━━━━━━━━━━━━━━━━━━━\u001b[0m\u001b[37m\u001b[0m \u001b[1m2s\u001b[0m 2ms/step - loss: 1884.4846 - mae: 18.1442 - val_loss: 2675.6902 - val_mae: 18.3387\n",
            "Epoch 47/50\n",
            "\u001b[1m765/765\u001b[0m \u001b[32m━━━━━━━━━━━━━━━━━━━━\u001b[0m\u001b[37m\u001b[0m \u001b[1m2s\u001b[0m 2ms/step - loss: 1794.6567 - mae: 17.5679 - val_loss: 2660.9773 - val_mae: 18.6006\n",
            "Epoch 48/50\n",
            "\u001b[1m765/765\u001b[0m \u001b[32m━━━━━━━━━━━━━━━━━━━━\u001b[0m\u001b[37m\u001b[0m \u001b[1m2s\u001b[0m 2ms/step - loss: 1618.5414 - mae: 16.9190 - val_loss: 2668.4158 - val_mae: 18.7603\n",
            "Epoch 49/50\n",
            "\u001b[1m765/765\u001b[0m \u001b[32m━━━━━━━━━━━━━━━━━━━━\u001b[0m\u001b[37m\u001b[0m \u001b[1m2s\u001b[0m 2ms/step - loss: 1729.8759 - mae: 17.6841 - val_loss: 2675.6392 - val_mae: 17.8882\n",
            "Epoch 50/50\n",
            "\u001b[1m765/765\u001b[0m \u001b[32m━━━━━━━━━━━━━━━━━━━━\u001b[0m\u001b[37m\u001b[0m \u001b[1m3s\u001b[0m 3ms/step - loss: 2220.7512 - mae: 17.8779 - val_loss: 2673.5476 - val_mae: 18.3058\n",
            "Updated Model Loss: 1791.7945556640625, Mean Absolute Error: 17.16474151611328\n"
          ]
        }
      ]
    },
    {
      "cell_type": "code",
      "source": [
        "from sklearn.metrics import r2_score\n",
        "\n",
        "# Predict on the test set\n",
        "y_pred = model.predict(X_test_scaled)\n",
        "\n",
        "# Calculate R² Score\n",
        "r2 = r2_score(y_test, y_pred)\n",
        "print(f\"Model Accuracy (R² Score): {r2:.4f}\")\n"
      ],
      "metadata": {
        "colab": {
          "base_uri": "https://localhost:8080/"
        },
        "id": "350ukEKDca2e",
        "outputId": "c074914a-574c-4495-a45b-ebbdf52d6e8a"
      },
      "execution_count": 18,
      "outputs": [
        {
          "output_type": "stream",
          "name": "stdout",
          "text": [
            "\u001b[1m120/120\u001b[0m \u001b[32m━━━━━━━━━━━━━━━━━━━━\u001b[0m\u001b[37m\u001b[0m \u001b[1m1s\u001b[0m 5ms/step\n",
            "Model Accuracy (R² Score): 0.0588\n"
          ]
        }
      ]
    },
    {
      "cell_type": "code",
      "source": [
        "#THIS IS THE FINAL STEPS WE CAN TRAIN THE MODEL TO THE FULL ACCURACY......"
      ],
      "metadata": {
        "id": "NSq2b1JxczRz"
      },
      "execution_count": null,
      "outputs": []
    }
  ]
}
